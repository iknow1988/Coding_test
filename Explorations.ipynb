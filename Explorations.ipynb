{
 "cells": [
  {
   "cell_type": "markdown",
   "metadata": {},
   "source": [
    "##### Author: KAZI ABIR ADNAN | i_know1988@yahoo.com"
   ]
  },
  {
   "cell_type": "markdown",
   "metadata": {},
   "source": [
    "## README"
   ]
  },
  {
   "cell_type": "markdown",
   "metadata": {},
   "source": [
    "- This notebook expects an input file named 'input.xlsx' in the root directory\n",
    "- If you run all cells, this should an 'output_final.csv' file in the root folder"
   ]
  },
  {
   "cell_type": "markdown",
   "metadata": {},
   "source": [
    "## Problem Description & Solution"
   ]
  },
  {
   "cell_type": "markdown",
   "metadata": {},
   "source": [
    "### Problem"
   ]
  },
  {
   "cell_type": "markdown",
   "metadata": {},
   "source": [
    "#### Coding test for Caltex Big Data Engineer Interview. "
   ]
  },
  {
   "cell_type": "markdown",
   "metadata": {},
   "source": [
    "### Solution"
   ]
  },
  {
   "cell_type": "markdown",
   "metadata": {},
   "source": [
    "- Step 1 : Load data from excel file using pandas\n",
    "- Step 2 : Added a column of hierarchical information of products looping through the dataframe.\n",
    "- Step 3 : Created product hierarchy columns using lambda function\n",
    "- Step 4 : Unpivoted the dataframe\n",
    "- Step 5 : Added periodical information using lamda function"
   ]
  },
  {
   "cell_type": "markdown",
   "metadata": {},
   "source": [
    "## Import Libraries "
   ]
  },
  {
   "cell_type": "code",
   "execution_count": 1,
   "metadata": {},
   "outputs": [],
   "source": [
    "import pandas as pd\n",
    "from datetime import datetime"
   ]
  },
  {
   "cell_type": "markdown",
   "metadata": {},
   "source": [
    "## Load data from source"
   ]
  },
  {
   "cell_type": "code",
   "execution_count": 2,
   "metadata": {},
   "outputs": [],
   "source": [
    "df = pd.read_excel('input.xlsx')"
   ]
  },
  {
   "cell_type": "code",
   "execution_count": 3,
   "metadata": {},
   "outputs": [
    {
     "data": {
      "text/html": [
       "<div>\n",
       "<style scoped>\n",
       "    .dataframe tbody tr th:only-of-type {\n",
       "        vertical-align: middle;\n",
       "    }\n",
       "\n",
       "    .dataframe tbody tr th {\n",
       "        vertical-align: top;\n",
       "    }\n",
       "\n",
       "    .dataframe thead th {\n",
       "        text-align: right;\n",
       "    }\n",
       "</style>\n",
       "<table border=\"1\" class=\"dataframe\">\n",
       "  <thead>\n",
       "    <tr style=\"text-align: right;\">\n",
       "      <th></th>\n",
       "      <th>Unnamed: 0</th>\n",
       "      <th>Unnamed: 1</th>\n",
       "      <th>Units</th>\n",
       "      <th>2019-06-01 00:00:00</th>\n",
       "      <th>2019-07-01 00:00:00</th>\n",
       "      <th>2019-08-01 00:00:00</th>\n",
       "      <th>2019-09-01 00:00:00</th>\n",
       "      <th>2019-10-01 00:00:00</th>\n",
       "      <th>2019-11-01 00:00:00</th>\n",
       "      <th>2019-12-01 00:00:00</th>\n",
       "      <th>...</th>\n",
       "      <th>2020-11-01 00:00:00</th>\n",
       "      <th>2020-12-01 00:00:00</th>\n",
       "      <th>Q1-21</th>\n",
       "      <th>Q2-21</th>\n",
       "      <th>Q3-21</th>\n",
       "      <th>Q4-21</th>\n",
       "      <th>Q1-22</th>\n",
       "      <th>Q2-22</th>\n",
       "      <th>Q3-22</th>\n",
       "      <th>Q4-22</th>\n",
       "    </tr>\n",
       "  </thead>\n",
       "  <tbody>\n",
       "    <tr>\n",
       "      <th>0</th>\n",
       "      <td>Product</td>\n",
       "      <td>CRUDE</td>\n",
       "      <td>NaN</td>\n",
       "      <td>NaN</td>\n",
       "      <td>NaN</td>\n",
       "      <td>NaN</td>\n",
       "      <td>NaN</td>\n",
       "      <td>NaN</td>\n",
       "      <td>NaN</td>\n",
       "      <td>NaN</td>\n",
       "      <td>...</td>\n",
       "      <td>NaN</td>\n",
       "      <td>NaN</td>\n",
       "      <td>NaN</td>\n",
       "      <td>NaN</td>\n",
       "      <td>NaN</td>\n",
       "      <td>NaN</td>\n",
       "      <td>NaN</td>\n",
       "      <td>NaN</td>\n",
       "      <td>NaN</td>\n",
       "      <td>NaN</td>\n",
       "    </tr>\n",
       "    <tr>\n",
       "      <th>1</th>\n",
       "      <td>Physical</td>\n",
       "      <td>Physical Premiums</td>\n",
       "      <td>NaN</td>\n",
       "      <td>NaN</td>\n",
       "      <td>NaN</td>\n",
       "      <td>NaN</td>\n",
       "      <td>NaN</td>\n",
       "      <td>NaN</td>\n",
       "      <td>NaN</td>\n",
       "      <td>NaN</td>\n",
       "      <td>...</td>\n",
       "      <td>NaN</td>\n",
       "      <td>NaN</td>\n",
       "      <td>NaN</td>\n",
       "      <td>NaN</td>\n",
       "      <td>NaN</td>\n",
       "      <td>NaN</td>\n",
       "      <td>NaN</td>\n",
       "      <td>NaN</td>\n",
       "      <td>NaN</td>\n",
       "      <td>NaN</td>\n",
       "    </tr>\n",
       "  </tbody>\n",
       "</table>\n",
       "<p>2 rows × 30 columns</p>\n",
       "</div>"
      ],
      "text/plain": [
       "  Unnamed: 0         Unnamed: 1 Units  2019-06-01 00:00:00  \\\n",
       "0    Product              CRUDE   NaN                  NaN   \n",
       "1   Physical  Physical Premiums   NaN                  NaN   \n",
       "\n",
       "   2019-07-01 00:00:00  2019-08-01 00:00:00  2019-09-01 00:00:00  \\\n",
       "0                  NaN                  NaN                  NaN   \n",
       "1                  NaN                  NaN                  NaN   \n",
       "\n",
       "   2019-10-01 00:00:00  2019-11-01 00:00:00  2019-12-01 00:00:00  ...  \\\n",
       "0                  NaN                  NaN                  NaN  ...   \n",
       "1                  NaN                  NaN                  NaN  ...   \n",
       "\n",
       "   2020-11-01 00:00:00  2020-12-01 00:00:00  Q1-21  Q2-21  Q3-21  Q4-21  \\\n",
       "0                  NaN                  NaN    NaN    NaN    NaN    NaN   \n",
       "1                  NaN                  NaN    NaN    NaN    NaN    NaN   \n",
       "\n",
       "   Q1-22  Q2-22  Q3-22  Q4-22  \n",
       "0    NaN    NaN    NaN    NaN  \n",
       "1    NaN    NaN    NaN    NaN  \n",
       "\n",
       "[2 rows x 30 columns]"
      ]
     },
     "execution_count": 3,
     "metadata": {},
     "output_type": "execute_result"
    }
   ],
   "source": [
    "df.head(2)"
   ]
  },
  {
   "cell_type": "markdown",
   "metadata": {},
   "source": [
    "## Data Preprocessing"
   ]
  },
  {
   "cell_type": "markdown",
   "metadata": {},
   "source": [
    "#### Renaming first two columns"
   ]
  },
  {
   "cell_type": "code",
   "execution_count": 4,
   "metadata": {},
   "outputs": [],
   "source": [
    "df = df.rename(columns= {\"Unnamed: 0\": 'category',\"Unnamed: 1\": 'product_type'})"
   ]
  },
  {
   "cell_type": "markdown",
   "metadata": {},
   "source": [
    "#### Adding combined hierarchy column and populate hierarchy information"
   ]
  },
  {
   "cell_type": "code",
   "execution_count": 5,
   "metadata": {},
   "outputs": [],
   "source": [
    "df['combined_hierarchy'] = None"
   ]
  },
  {
   "cell_type": "markdown",
   "metadata": {},
   "source": [
    "The hierarchical information maintained here is not thread-safe and dataset dependent. There is a scope to improve this method. I wasn't able to use lambda method as I need to access previous rows to get the hierarchy. Moreover, hierarchy level suddenly changes from level 4 to level 2 and other than using 'Singapore' value in product_type it is hard to capture"
   ]
  },
  {
   "cell_type": "code",
   "execution_count": 6,
   "metadata": {},
   "outputs": [],
   "source": [
    "def add_combined_hierarchy_value(df):\n",
    "    \"\"\" \n",
    "    Updates the dataframe defined above with hierarchical information\n",
    "    \n",
    "    Extended description of function. \n",
    "  \n",
    "    Parameters: \n",
    "    arg1 (dataframe): takes a dataframe \n",
    "  \n",
    "    Returns: \n",
    "    dataframe : updated dataframe with combined_hierarchy seprated by comma in order\n",
    "    \"\"\"\n",
    "    \n",
    "    for index, row in df.iterrows():\n",
    "        if row['category'] == 'Product':\n",
    "            #reset hierarchy\n",
    "            hierarchy = []\n",
    "        if pd.isnull(row['Units']):\n",
    "            # TODO: THERE IS AN IMPROVEMENT SCOPE HERE. CURRENT CODE WILL ONLY WORK FOR THIS DATASET\n",
    "            if (len(hierarchy) == 4) and hierarchy[-1] != \"Singapore\":\n",
    "                hierarchy.pop()\n",
    "            elif len(hierarchy) > 0 and hierarchy[-1] == \"Singapore\":\n",
    "                hierarchy.pop()\n",
    "                hierarchy.pop()\n",
    "            hierarchy.append(row['product_type'])\n",
    "        else:\n",
    "            combined = ','.join(hierarchy)\n",
    "            combined = combined + \",\" + row['product_type']\n",
    "            df.at[index, 'combined_hierarchy'] = combined\n",
    "    \n",
    "    return df"
   ]
  },
  {
   "cell_type": "markdown",
   "metadata": {},
   "source": [
    "#### Create all hierarchy columns"
   ]
  },
  {
   "cell_type": "code",
   "execution_count": 7,
   "metadata": {},
   "outputs": [],
   "source": [
    "def get_product_hierarchy(row):\n",
    "    \"\"\" \n",
    "    Takes a row of the dataframe and updates the row with product hierarchy information. \n",
    "  \n",
    "    Extended description of function. \n",
    "  \n",
    "    Parameters: \n",
    "    arg1 (row): dataframe row\n",
    "  \n",
    "    Returns: \n",
    "    row: updated dataframe row\n",
    "  \n",
    "    \"\"\"\n",
    "    value = row['combined_hierarchy']\n",
    "    if value:\n",
    "        values = value.split(',')\n",
    "        row['product_name'] = values[0]\n",
    "        for i in range(1, len(values)):\n",
    "            row['product_hier_'+str(i)] = values[i]\n",
    "    else:\n",
    "        row['product_name'] = None\n",
    "        row['product_hier_1'] = None\n",
    "        row['product_hier_2'] = None\n",
    "        row['product_hier_3'] = None \n",
    "        row['product_hier_4'] = None \n",
    "\n",
    "    return row"
   ]
  },
  {
   "cell_type": "markdown",
   "metadata": {},
   "source": [
    "#### Add product_name, product_hier_1, product_hier_2, product_hier_3, product_hier_4 columns to dataframe from combined_hierarchy"
   ]
  },
  {
   "cell_type": "code",
   "execution_count": 8,
   "metadata": {},
   "outputs": [],
   "source": [
    "df = add_combined_hierarchy_value(df)\n",
    "df = df.apply(get_product_hierarchy, axis = 1)"
   ]
  },
  {
   "cell_type": "markdown",
   "metadata": {},
   "source": [
    "#### Dropping unnecessary columns and rows"
   ]
  },
  {
   "cell_type": "code",
   "execution_count": 9,
   "metadata": {},
   "outputs": [],
   "source": [
    "df = df.drop(['combined_hierarchy','product_type'], axis=1)\n",
    "df = df.dropna(subset = ['Units'])"
   ]
  },
  {
   "cell_type": "markdown",
   "metadata": {},
   "source": [
    "## Data Manipulation"
   ]
  },
  {
   "cell_type": "markdown",
   "metadata": {},
   "source": [
    "#### Unpivoting table"
   ]
  },
  {
   "cell_type": "code",
   "execution_count": 10,
   "metadata": {},
   "outputs": [],
   "source": [
    "id_vars_column = ['product_name', 'product_hier_1','product_hier_2','product_hier_3','product_hier_4',\n",
    "                  \"category\",\"Units\"]\n",
    "value_vars_name = list(df.columns[~df.columns.isin(id_vars_column)])\n",
    "df = pd.melt(df, id_vars = id_vars_column, value_vars = value_vars_name)"
   ]
  },
  {
   "cell_type": "markdown",
   "metadata": {},
   "source": [
    "#### Adding periodical information"
   ]
  },
  {
   "cell_type": "code",
   "execution_count": 11,
   "metadata": {},
   "outputs": [],
   "source": [
    "#TODO: IMPROVEMENT SCOPE - replace year_value map and use a method to get 4 digit year from 2 digit year\n",
    "year_value = {'21': 2021, '22': 2022}\n",
    "def period_type(row):\n",
    "    \"\"\" \n",
    "    Takes a row of the dataframe and updates the row with periodical information. \n",
    "  \n",
    "    Extended description of function. \n",
    "  \n",
    "    Parameters: \n",
    "    arg1 (row): dataframe row\n",
    "  \n",
    "    Returns: \n",
    "    row: updated dataframe row\n",
    "  \n",
    "    \"\"\"\n",
    "    \n",
    "    value = str(row['variable'])\n",
    "    if value.startswith('Q'):\n",
    "        row['period_type'] = 'quarter'\n",
    "        row['period'] = int(value[1])\n",
    "        row['year'] = year_value[value.split('-')[1]]\n",
    "    else:\n",
    "        dt = datetime.strptime(value, '%Y-%m-%d %H:%M:%S')\n",
    "        row['period_type'] = 'month'\n",
    "        row['period'] = dt.month\n",
    "        row['year'] = dt.year\n",
    "    \n",
    "    return row"
   ]
  },
  {
   "cell_type": "markdown",
   "metadata": {},
   "source": [
    "#### Add period_type, period, year columns to dataframe from variable column"
   ]
  },
  {
   "cell_type": "code",
   "execution_count": 12,
   "metadata": {},
   "outputs": [],
   "source": [
    "df = df.apply(period_type, axis = 1)"
   ]
  },
  {
   "cell_type": "code",
   "execution_count": 13,
   "metadata": {},
   "outputs": [
    {
     "data": {
      "text/html": [
       "<div>\n",
       "<style scoped>\n",
       "    .dataframe tbody tr th:only-of-type {\n",
       "        vertical-align: middle;\n",
       "    }\n",
       "\n",
       "    .dataframe tbody tr th {\n",
       "        vertical-align: top;\n",
       "    }\n",
       "\n",
       "    .dataframe thead th {\n",
       "        text-align: right;\n",
       "    }\n",
       "</style>\n",
       "<table border=\"1\" class=\"dataframe\">\n",
       "  <thead>\n",
       "    <tr style=\"text-align: right;\">\n",
       "      <th></th>\n",
       "      <th>product_name</th>\n",
       "      <th>product_hier_1</th>\n",
       "      <th>product_hier_2</th>\n",
       "      <th>product_hier_3</th>\n",
       "      <th>product_hier_4</th>\n",
       "      <th>category</th>\n",
       "      <th>Units</th>\n",
       "      <th>variable</th>\n",
       "      <th>value</th>\n",
       "      <th>period_type</th>\n",
       "      <th>period</th>\n",
       "      <th>year</th>\n",
       "    </tr>\n",
       "  </thead>\n",
       "  <tbody>\n",
       "    <tr>\n",
       "      <th>0</th>\n",
       "      <td>CRUDE</td>\n",
       "      <td>Physical Premiums</td>\n",
       "      <td>Regional vs Dated Brent</td>\n",
       "      <td>NaN</td>\n",
       "      <td>NaN</td>\n",
       "      <td>Physical</td>\n",
       "      <td>bbl</td>\n",
       "      <td>2019-06-01 00:00:00</td>\n",
       "      <td>NaN</td>\n",
       "      <td>month</td>\n",
       "      <td>6</td>\n",
       "      <td>2019</td>\n",
       "    </tr>\n",
       "    <tr>\n",
       "      <th>1</th>\n",
       "      <td>CRUDE</td>\n",
       "      <td>Physical Premiums</td>\n",
       "      <td>US vs Dated Brent</td>\n",
       "      <td>NaN</td>\n",
       "      <td>NaN</td>\n",
       "      <td>Physical</td>\n",
       "      <td>bbl</td>\n",
       "      <td>2019-06-01 00:00:00</td>\n",
       "      <td>NaN</td>\n",
       "      <td>month</td>\n",
       "      <td>6</td>\n",
       "      <td>2019</td>\n",
       "    </tr>\n",
       "  </tbody>\n",
       "</table>\n",
       "</div>"
      ],
      "text/plain": [
       "  product_name     product_hier_1           product_hier_2 product_hier_3  \\\n",
       "0        CRUDE  Physical Premiums  Regional vs Dated Brent            NaN   \n",
       "1        CRUDE  Physical Premiums        US vs Dated Brent            NaN   \n",
       "\n",
       "  product_hier_4  category Units             variable  value period_type  \\\n",
       "0            NaN  Physical   bbl  2019-06-01 00:00:00    NaN       month   \n",
       "1            NaN  Physical   bbl  2019-06-01 00:00:00    NaN       month   \n",
       "\n",
       "   period  year  \n",
       "0       6  2019  \n",
       "1       6  2019  "
      ]
     },
     "execution_count": 13,
     "metadata": {},
     "output_type": "execute_result"
    }
   ],
   "source": [
    "df.head(2)"
   ]
  },
  {
   "cell_type": "markdown",
   "metadata": {},
   "source": [
    "## Data Saving"
   ]
  },
  {
   "cell_type": "markdown",
   "metadata": {},
   "source": [
    "#### Processing to match output format"
   ]
  },
  {
   "cell_type": "code",
   "execution_count": 14,
   "metadata": {},
   "outputs": [],
   "source": [
    "df = df[['category', 'product_name', 'product_hier_1', 'product_hier_2', 'product_hier_3', 'product_hier_4',\n",
    "        'year','period_type','period', 'Units', 'value']]\n",
    "df = df.rename(columns = {'Units': 'units'})"
   ]
  },
  {
   "cell_type": "markdown",
   "metadata": {},
   "source": [
    "#### Write to file"
   ]
  },
  {
   "cell_type": "code",
   "execution_count": 15,
   "metadata": {},
   "outputs": [],
   "source": [
    "df.to_csv('output_final.csv', index = False)"
   ]
  }
 ],
 "metadata": {
  "kernelspec": {
   "display_name": "Python 3",
   "language": "python",
   "name": "python3"
  },
  "language_info": {
   "codemirror_mode": {
    "name": "ipython",
    "version": 3
   },
   "file_extension": ".py",
   "mimetype": "text/x-python",
   "name": "python",
   "nbconvert_exporter": "python",
   "pygments_lexer": "ipython3",
   "version": "3.7.3"
  }
 },
 "nbformat": 4,
 "nbformat_minor": 2
}
